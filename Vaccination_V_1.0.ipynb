{
 "cells": [
  {
   "cell_type": "markdown",
   "id": "b1598def",
   "metadata": {},
   "source": [
    "# Data visualization for the percentage of population fully vaccinated against COVID-19"
   ]
  },
  {
   "cell_type": "markdown",
   "id": "62b1b613",
   "metadata": {},
   "source": [
    "__Author: Atharva Vishnu Raverkar__\n",
    "\n",
    "__Matrikelnummer : 419275__"
   ]
  },
  {
   "cell_type": "markdown",
   "id": "57d246d8",
   "metadata": {},
   "source": [
    "__Notebook Description:__\n",
    "\n",
    "- This notebook will show a graph of percentage of population fully vaccinated against COVID-19 for selected countries\n",
    "- The data set used for this analysis is available on John Hopkins COVID-19 vaccination GitHub page. \n",
    "- To find the percentage of population infected, the number of infected people for a specific date is divided by population of that country.\n",
    "- The data for population of a country is taken from a different John Hopkins GitHub page. It is available as a csv file on the GitHub page for vaccinated population.\n",
    "- It is possible that the path from which data is taken in this notebook may not match exactly with the path on the user's computer. In such an event, my my sincere apologies. Please change the path in that case to a correct one. "
   ]
  },
  {
   "cell_type": "code",
   "execution_count": null,
   "id": "3d400bc2",
   "metadata": {},
   "outputs": [],
   "source": [
    "import pandas as pd \n",
    "import numpy as np\n",
    "\n",
    "%matplotlib inline\n",
    "\n",
    "import matplotlib as mpl \n",
    "import matplotlib.pyplot as plt\n",
    "\n",
    "import seaborn as sns\n",
    "\n",
    "import plotly\n",
    "import plotly.graph_objects as go "
   ]
  },
  {
   "cell_type": "code",
   "execution_count": null,
   "id": "3df84b26",
   "metadata": {},
   "outputs": [],
   "source": [
    "mpl.rcParams['figure.figsize'] = (20,16)\n",
    "pd.set_option('display.max_rows', 500)\n",
    "\n",
    "sns.set(style = 'darkgrid')"
   ]
  },
  {
   "cell_type": "markdown",
   "id": "27317b50",
   "metadata": {},
   "source": [
    "# John Hopkins Data For Vaccination "
   ]
  },
  {
   "cell_type": "code",
   "execution_count": null,
   "id": "45658ddc",
   "metadata": {},
   "outputs": [],
   "source": [
    "path = 'https://raw.githubusercontent.com/govex/COVID-19/master/data_tables/vaccine_data/global_data/time_series_covid19_vaccine_global.csv'\n",
    "p_data_vaccine = pd.read_csv(path)"
   ]
  },
  {
   "cell_type": "code",
   "execution_count": null,
   "id": "026897b0",
   "metadata": {},
   "outputs": [],
   "source": [
    "p_data_vaccine.head()"
   ]
  },
  {
   "cell_type": "code",
   "execution_count": null,
   "id": "70981c53",
   "metadata": {},
   "outputs": [],
   "source": [
    "#Checking what is the difference between the two dates mentioned in the columns\n",
    "df_compare = np.where(p_data_vaccine['Date'] == p_data_vaccine['Report_Date_String'], 'True', 'False')\n",
    "print(np.where(df_compare == 'False'))\n",
    "\n",
    "p_data_vaccine.dtypes # Checking the datatypes of all the remaining columns. \n"
   ]
  },
  {
   "cell_type": "markdown",
   "id": "102029f2",
   "metadata": {},
   "source": [
    "Based on above, it is sufficient to have the Reporting date of vaccination for the analysis. \n",
    "And the other column named 'Date' can be dropped completely. "
   ]
  },
  {
   "cell_type": "code",
   "execution_count": null,
   "id": "23c5c2b9",
   "metadata": {},
   "outputs": [],
   "source": [
    "# Dropping the first 'Date' column also dropping the \"Province_State\" columns to make the data more manageable. \n",
    "p_data=p_data_vaccine.drop(['Date', 'Province_State'], axis =1)\n",
    "\n",
    "\n",
    "# Also renaming the columns for simplicity \n",
    "\n",
    "p_data = p_data.rename(columns = {'Country_Region':'Country', 'People_partially_vaccinated':'partially_vaccinated', 'People_fully_vaccinated':'fully_vaccinated', 'Report_Date_String':'Date'})\n",
    "\n",
    "p_data.head()\n"
   ]
  },
  {
   "cell_type": "code",
   "execution_count": null,
   "id": "387332b6",
   "metadata": {},
   "outputs": [],
   "source": [
    "#Converting the date to string using 'datetime'.\n",
    "p_data['Date'] = pd.to_datetime(p_data['Date'])"
   ]
  },
  {
   "cell_type": "code",
   "execution_count": null,
   "id": "4122221a",
   "metadata": {},
   "outputs": [],
   "source": [
    "# Using Pivot table for rearraging the data \n",
    "pivot = pd.pivot_table(data = p_data,\n",
    "                                  index = 'Date',\n",
    "                                  columns = 'Country',\n",
    "                                  values = 'fully_vaccinated',\n",
    "                                  )\n",
    "\n",
    "# Replacing the NaN values in the table \n",
    "piot = pivot.fillna(0)\n"
   ]
  },
  {
   "cell_type": "code",
   "execution_count": null,
   "id": "70861b54",
   "metadata": {},
   "outputs": [],
   "source": [
    "# Replaving NaN values and resetting the index of the table\n",
    "pivot= pivot.replace(np.nan,0)\n",
    "\n",
    "pivot.reset_index(inplace = True)\n",
    "\n",
    "pivot.head()"
   ]
  },
  {
   "cell_type": "code",
   "execution_count": null,
   "id": "601bc34c",
   "metadata": {},
   "outputs": [],
   "source": [
    "# Isolating the date time index\n",
    "time_idx= pivot[\"Date\"]\n",
    "df_plot = pd.DataFrame({'Date': time_idx})\n",
    "df_plot.head()"
   ]
  },
  {
   "cell_type": "code",
   "execution_count": null,
   "id": "9b66967f",
   "metadata": {},
   "outputs": [],
   "source": [
    "# Making a list of countries \n",
    "country_list = ['India', 'US', 'Italy']"
   ]
  },
  {
   "cell_type": "code",
   "execution_count": null,
   "id": "1184aabf",
   "metadata": {},
   "outputs": [],
   "source": [
    "# Importing the data for the world population\n",
    "path_wp = 'https://raw.githubusercontent.com/govex/COVID-19/master/data_tables/world_pop_by_country.csv'\n",
    "wp = pd.read_csv(path_wp)\n",
    "wp.head()"
   ]
  },
  {
   "cell_type": "code",
   "execution_count": null,
   "id": "e6c27971",
   "metadata": {},
   "outputs": [],
   "source": [
    "# Finding the percentage of fully vaccinated people in each country  \n",
    "for each in country_list:\n",
    "    df_plot[each] = pivot[each]\n",
    "    var = np.array(wp.loc[wp[\"Country Name\"]==each, \"2018\"])\n",
    "    df_plot[each] = df_plot[each]/var[0]*100 \n",
    "    \n",
    "\n",
    "    \n",
    "df_plot.head()\n",
    "\n",
    "\n"
   ]
  },
  {
   "cell_type": "code",
   "execution_count": null,
   "id": "3d34ee16",
   "metadata": {
    "scrolled": true
   },
   "outputs": [],
   "source": [
    "# Plotting the above data with respect to time\n",
    "fig = go.Figure()\n",
    "\n",
    "for each in country_list:\n",
    "    fig.add_trace(go.Scatter(x = df_plot.Date, \n",
    "                         y = df_plot[each], \n",
    "                        mode = 'markers+lines',\n",
    "                        opacity = 0.9, \n",
    "                        line_width = 1,\n",
    "                        marker_size = 2,\n",
    "                        name = each))\n",
    "\n",
    "fig.update_layout(width =900,\n",
    "                 height = 700, \n",
    "                 xaxis_title = 'Time',\n",
    "                 yaxis_title = \"Percentage of total population fully-vaccinated(source: John Hopkins vaccinations, linear-scale)\", \n",
    "                 )\n",
    "\n",
    "fig.update_yaxes(type = 'linear', range = [0, 90])\n",
    "\n",
    "\n",
    "# Choose the browser according to your preference\n",
    "\n",
    "#fig.show(renderer='chrome')\n",
    "#fig.show(renderer='firefox')\n",
    "\n",
    "fig.update_layout(xaxis_rangeslider_visible = True)\n",
    "fig.show()"
   ]
  },
  {
   "cell_type": "code",
   "execution_count": null,
   "id": "ab1037be",
   "metadata": {},
   "outputs": [],
   "source": [
    "import dash\n",
    "dash.__version__\n",
    "from dash import dcc\n",
    "from dash import html\n",
    "\n",
    "app = dash.Dash()\n",
    "app.layout = html.Div([\n",
    "    \n",
    "    html.Label('Multi-Select Country'),\n",
    "    \n",
    "    dcc.Dropdown(\n",
    "        id='country_drop_down',\n",
    "        options=[\n",
    "            {'label': 'India', 'value': 'India'},\n",
    "            {'label': 'US', 'value': 'US'},\n",
    "            {'label': 'Italy', 'value': 'Italy'}\n",
    "        ],\n",
    "        value=['US'], # which are pre-selected\n",
    "        multi=True\n",
    "    ),   \n",
    "        \n",
    "    dcc.Graph(figure=fig, id='main_window_slope')\n",
    "])\n"
   ]
  },
  {
   "cell_type": "code",
   "execution_count": null,
   "id": "72dfba78",
   "metadata": {},
   "outputs": [],
   "source": [
    "from dash.dependencies import Input, Output\n",
    "\n",
    "@app.callback(\n",
    "    Output('main_window_slope', 'figure'),\n",
    "    [Input('country_drop_down', 'value')])\n",
    "def update_figure(country_list):\n",
    "    \n",
    "    traces = [] \n",
    "    for each in country_list:\n",
    "        traces.append(dict(x=df_plot.Date,\n",
    "                                y=df_plot[each],\n",
    "                                mode='markers+lines',\n",
    "                                opacity=0.9,\n",
    "                                line_width=1,\n",
    "                                marker_size=2, \n",
    "                                name=each\n",
    "                        )\n",
    "                )\n",
    "        \n",
    "    return {\n",
    "            'data': traces,\n",
    "            'layout': dict (\n",
    "                width=1280,\n",
    "                height=720,\n",
    "                xaxis_title=\"Time\",\n",
    "                yaxis_title=\"Percentage of total population fully-vaccinated(source johns hopkins csse, linear-scale)\",\n",
    "                xaxis={'tickangle':-45,\n",
    "                        'nticks':20,\n",
    "                        'tickfont':dict(size=14,color=\"#7f7f7f\"),\n",
    "                        \n",
    "                      },\n",
    "                yaxis={'type':\"linear\",\n",
    "                       'range':'[1.1,5.5]'\n",
    "                      }\n",
    "        )\n",
    "    }"
   ]
  },
  {
   "cell_type": "code",
   "execution_count": null,
   "id": "9f13959e",
   "metadata": {
    "scrolled": true
   },
   "outputs": [],
   "source": [
    "app.run_server(debug = True, use_reloader = False)"
   ]
  }
 ],
 "metadata": {
  "kernelspec": {
   "display_name": "Python 3 (ipykernel)",
   "language": "python",
   "name": "python3"
  },
  "language_info": {
   "codemirror_mode": {
    "name": "ipython",
    "version": 3
   },
   "file_extension": ".py",
   "mimetype": "text/x-python",
   "name": "python",
   "nbconvert_exporter": "python",
   "pygments_lexer": "ipython3",
   "version": "3.9.12"
  }
 },
 "nbformat": 4,
 "nbformat_minor": 5
}
